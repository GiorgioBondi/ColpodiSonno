{
 "cells": [
  {
   "cell_type": "code",
   "execution_count": 38,
   "metadata": {
    "collapsed": true
   },
   "outputs": [],
   "source": [
    "%matplotlib inline\n",
    "import numpy as np\n",
    "import matplotlib.pyplot as plt\n",
    "import pandas as pd\n",
    "\n",
    "def individuaOutlier(data,t):\n",
    "    \n",
    "    \n",
    "    movAvg=pd.rolling_mean(data,len(data)*t)\n",
    "    #calcolo della Standard Deviation per identificazione outlier\n",
    "    movStd=pd.rolling_std(data,len(data)*t)\n",
    "    sec_outlier=list()\n",
    "    cmp_outlier=list()\n",
    "    for i in range(len(data)):\n",
    "        if (abs(data[i]-movAvg[i])>2*movStd[i]):\n",
    "            sec_outlier.append(i*t)\n",
    "            cmp_outlier.append(i)\n",
    "\n",
    "    print(\"Outlier presenti ai secondi:\")\n",
    "    print(sec_outlier)\n",
    "    print(\"I campioni outlier sono\")\n",
    "    print(cmp_outlier)\n",
    "\n",
    "    t=np.arange(0,len(data)*t,t)\n",
    "    plt.figure(figsize=(10,10))\n",
    "    plt.plot(t,data,color='g')\n",
    "    plt.plot(t,movAvg,color='r')\n",
    "    plt.show()\n",
    "    \n",
    "    return(cmp_outlier)"
   ]
  },
  {
   "cell_type": "code",
   "execution_count": 59,
   "metadata": {
    "collapsed": false
   },
   "outputs": [],
   "source": [
    "#cross-correlazione tra finestra con zero-padding e segnale \n",
    "%matplotlib inline\n",
    "import numpy as np\n",
    "import matplotlib.pyplot as plt\n",
    "import pandas as pd\n",
    "import scipy.signal as signal\n",
    "from numpy.fft import rfft, irfft\n",
    "\n",
    "arrwnd=np.loadtxt(\"FinestreRef.npy\")\n",
    "\n",
    "def calcoloCCR(data, arrwnd,plotDis = True):\n",
    "\n",
    "#le due liste da confrontare devono avere stessa lunghezza\n",
    "\n",
    "    for i in range (len(arrwnd)):\n",
    "   \n",
    "        template=arrwnd[i].tolist()\n",
    "    \n",
    "    #Zero padding\n",
    "        for i in range (10,len(data)):\n",
    "            template.append(0)\n",
    "\n",
    "    # Fast Fourier Transform (FFT)\n",
    "        Data= rfft(data)\n",
    "   \n",
    "    # Inverto il vettore template\n",
    "        tempY = []\n",
    "        while len(template) > 0:\n",
    "            tempY.append(template.pop())\n",
    "    \n",
    "        Y = rfft(tempY)\n",
    "\n",
    "    # Faccio la formula inversa della FFT\n",
    "        colpoDiSonno = False\n",
    "        CrossCorrelazione = irfft(Data*Y)\n",
    "        print(len(CrossCorrelazione))\n",
    "        \n",
    "        if(max(CrossCorrelazione)>4):\n",
    "            colpoDiSonno = True\n",
    "            print(\"Avvenuto colpo di sonno\")\n",
    "            if plotDis:\n",
    "                x=np.arange(0,len(data))\n",
    "                plt.plot(x,CrossCorrelazione)\n",
    "                plt.xlabel(\"Campioni\")\n",
    "                plt.ylabel(\"CrossCorrelazione\")\n",
    "                line1=plt.plot(x,[3]*(len(data)),'r')\n",
    "                plt.show()\n",
    "         \n",
    "        return colpoDiSonno"
   ]
  },
  {
   "cell_type": "code",
   "execution_count": 55,
   "metadata": {
    "collapsed": false
   },
   "outputs": [
    {
     "name": "stdout",
     "output_type": "stream",
     "text": [
      "0.05189634799899068\n"
     ]
    }
   ],
   "source": [
    "%matplotlib inline\n",
    "from pynq.pmods import Grove_IMU\n",
    "from IPython import display\n",
    "from ipywidgets import widgets\n",
    "import numpy as np\n",
    "import scipy.signal as signal\n",
    "import time\n",
    "import matplotlib.pyplot as plt\n",
    "\n",
    "\n",
    "# initialize Grove IMU on PMOD 1 (JB) and grove id 4 (GR4).\n",
    "# PMOD mapping is: PMOD 1 -> JB, PMOD 2 -> JC, PMOD 3 -> JD, PMOD 4 -> JE\n",
    "# NOTE: only GR4 can be used for the Grove IMU\n",
    "imu = Grove_IMU(1,4)\n",
    "\n",
    "#empty lists creation\n",
    "accX=list()\n",
    "accY=list()\n",
    "accZ=list()\n",
    "pitch_l=list()\n",
    "\n",
    "while (True):\n",
    "    try:\n",
    "        \n",
    "        start=time.time()\n",
    "        \n",
    "        # get data from accelerometer\n",
    "        motion = imu.get_motion()\n",
    "\n",
    "        accX.append(motion[0])\n",
    "        accY.append(motion[1])\n",
    "        accZ.append(motion[2])\n",
    "       \n",
    "        #calculate pitch from accelerations\n",
    "        argomento= motion[1]/np.sqrt(motion[0]*motion[0]*motion[1]*motion[1])\n",
    "        pitch = np.arctan(argomento)\n",
    "        pitch_l.append(pitch)\n",
    "        \n",
    "        time.sleep(0.05)\n",
    "        \n",
    "    except KeyboardInterrupt:\n",
    "    # exit without showing errors if the stop button in Jupyter is pressed\n",
    "        end=time.time()\n",
    "        break\n",
    "\n",
    "tc=(end-start)/len(accX) #tempo di campionamento effettivo\n",
    "\n",
    "#array creation from data-filled lists\n",
    "accX_arr=np.array(accX)\n",
    "accY_arr=np.array(accY)\n",
    "accZ_arr=np.array(accZ)\n",
    "pitch_arr=np.array(pitch_l)\n",
    "\n",
    "\n",
    "print(end-start)\n",
    "\n",
    "np.savetxt(\"DataX10.npy\", accX_arr)\n",
    "np.savetxt(\"DataY10.npy\", accY_arr)\n",
    "np.savetxt(\"DataZ10.npy\", accZ_arr)\n",
    "np.savetxt(\"DataP10.npy\",pitch_arr)\n",
    "\n"
   ]
  },
  {
   "cell_type": "code",
   "execution_count": 60,
   "metadata": {
    "collapsed": false
   },
   "outputs": [
    {
     "name": "stdout",
     "output_type": "stream",
     "text": [
      "356\n",
      "Avvenuto colpo di sonno\n"
     ]
    },
    {
     "data": {
      "image/png": "[encoded data removed]",
      "text/plain": [
       "<matplotlib.figure.Figure at 0x2bc2aa30>"
      ]
     },
     "metadata": {},
     "output_type": "display_data"
    },
    {
     "name": "stdout",
     "output_type": "stream",
     "text": [
      "1.5884554120002576\n"
     ]
    }
   ],
   "source": [
    "#Analisi dati lungo Z\n",
    "%matplotlib inline\n",
    "import numpy as np\n",
    "import matplotlib.pyplot as plt\n",
    "import pandas as pd\n",
    "tc=0.05\n",
    "dataZ7=np.loadtxt(\"DataZ10.npy\")\n",
    "start=time.time()\n",
    "calcoloCCR(dataZ7,arrwnd)\n",
    "end=time.time()\n",
    "print(str(end-start))"
   ]
  },
  {
   "cell_type": "code",
   "execution_count": null,
   "metadata": {
    "collapsed": false
   },
   "outputs": [],
   "source": [
    "#Analisi dati lungo Y\n",
    "%matplotlib inline\n",
    "import numpy as np\n",
    "import matplotlib.pyplot as plt\n",
    "import pandas as pd\n",
    "\n",
    "dataY2=np.loadtxt(\"DataY2.npy\")\n",
    "dataY3=np.loadtxt(\"DataY3.npy\")\n",
    "\n",
    "cmp_outlierY=individuaOutlier(dataY2,tc)\n",
    "finestreY=taglioPicchi(dataY2,cmp_outlierY)\n",
    "calcoloCCR(dataY3,finestreY)\n"
   ]
  },
  {
   "cell_type": "code",
   "execution_count": null,
   "metadata": {
    "collapsed": false
   },
   "outputs": [],
   "source": [
    "#Analisi dati del pitch\n",
    "%matplotlib inline\n",
    "import numpy as np\n",
    "import matplotlib.pyplot as plt\n",
    "import pandas as pd\n",
    "dataP3=np.loadtxt(\"DataP3.npy\")\n",
    "\n",
    "cmp_outlierP=individuaOutlier(dataP3,tc)"
   ]
  },
  {
   "cell_type": "code",
   "execution_count": 36,
   "metadata": {
    "collapsed": false
   },
   "outputs": [
    {
     "name": "stdout",
     "output_type": "stream",
     "text": [
      "[8]\n",
      "[7, 8]\n",
      "[6, 7, 8]\n",
      "[5, 6, 7, 8]\n",
      "[4, 5, 6, 7, 8]\n"
     ]
    }
   ],
   "source": [
    "a = [0,1,2,3,4,5,6,7,8]\n",
    "for i in range (5):\n",
    "    print(a[len(a)-1-i:len(a)])\n"
   ]
  },
  {
   "cell_type": "code",
   "execution_count": null,
   "metadata": {
    "collapsed": true
   },
   "outputs": [],
   "source": []
  }
 ],
 "metadata": {
  "kernelspec": {
   "display_name": "Python 3",
   "language": "python",
   "name": "python3"
  },
  "language_info": {
   "codemirror_mode": {
    "name": "ipython",
    "version": 3
   },
   "file_extension": ".py",
   "mimetype": "text/x-python",
   "name": "python",
   "nbconvert_exporter": "python",
   "pygments_lexer": "ipython3",
   "version": "3.5.1"
  }
 },
 "nbformat": 4,
 "nbformat_minor": 0
}
