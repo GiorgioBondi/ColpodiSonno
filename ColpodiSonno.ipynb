{
 "cells": [
  {
   "cell_type": "code",
   "execution_count": null,
   "metadata": {
    "collapsed": true
   },
   "outputs": [],
   "source": [
    "%matplotlib inline\n",
    "from pynq.pmods import Grove_IMU\n",
    "from IPython import display\n",
    "from ipywidgets import widgets\n",
    "import numpy as np\n",
    "import scipy.signal as signal\n",
    "import time\n",
    "import matplotlib.pyplot as plt\n",
    "\n",
    "\n",
    "# initialize Grove IMU on PMOD 1 (JB) and grove id 4 (GR4).\n",
    "# PMOD mapping is: PMOD 1 -> JB, PMOD 2 -> JC, PMOD 3 -> JD, PMOD 4 -> JE\n",
    "# NOTE: only GR4 can be used for the Grove IMU\n",
    "imu = Grove_IMU(1,4)\n",
    "\n",
    "#Prova creazione array\n",
    "accX=np.array()\n",
    "accY=np.array()\n",
    "accZ=np.array()\n",
    "\n",
    "for i in range(60):\n",
    "\n",
    "        # get data from accelerometer\n",
    "        accl = imu.get_accl()\n",
    "        \n",
    "        # get data from gyroscope\n",
    "        gyro = imu.get_gyro()\n",
    "\n",
    "        print(\"Accelerometer x: \" + str(accl[0]))\n",
    "        np.append(accX, accl[0])\n",
    "        print(\"Accelerometer y: \" + str(accl[1]))\n",
    "        np.append(accY, accl[1])\n",
    "        print(\"Accelerometer z: \" + str(accl[2]))\n",
    "        print(\"\")\n",
    "        np.append(accZ, accl[2])\n",
    "        print(\"Gyroscope x: \" + str(gyro[0]))\n",
    "        print(\"Gyroscope y: \" + str(gyro[1]))\n",
    "        print(\"Gyroscope z: \" + str(gyro[2]))\n",
    "        print(\"\")\n",
    "        \n",
    "        time.sleep(0.5)\n",
    "\n",
    "np.save(\"DataX.npy\", accX)\n",
    "np.save(\"DataY.npy\", accY)\n",
    "np.save(\"DataZ.npy\", accZ)\n",
    "\n",
    "\n",
    "\n"
   ]
  },
  {
   "cell_type": "code",
   "execution_count": 4,
   "metadata": {
    "collapsed": false
   },
   "outputs": [
    {
     "name": "stdout",
     "output_type": "stream",
     "text": [
      "Help on function append in module numpy.lib.function_base:\n",
      "\n",
      "append(arr, values, axis=None)\n",
      "    Append values to the end of an array.\n",
      "    \n",
      "    Parameters\n",
      "    ----------\n",
      "    arr : array_like\n",
      "        Values are appended to a copy of this array.\n",
      "    values : array_like\n",
      "        These values are appended to a copy of `arr`.  It must be of the\n",
      "        correct shape (the same shape as `arr`, excluding `axis`).  If\n",
      "        `axis` is not specified, `values` can be any shape and will be\n",
      "        flattened before use.\n",
      "    axis : int, optional\n",
      "        The axis along which `values` are appended.  If `axis` is not\n",
      "        given, both `arr` and `values` are flattened before use.\n",
      "    \n",
      "    Returns\n",
      "    -------\n",
      "    append : ndarray\n",
      "        A copy of `arr` with `values` appended to `axis`.  Note that\n",
      "        `append` does not occur in-place: a new array is allocated and\n",
      "        filled.  If `axis` is None, `out` is a flattened array.\n",
      "    \n",
      "    See Also\n",
      "    --------\n",
      "    insert : Insert elements into an array.\n",
      "    delete : Delete elements from an array.\n",
      "    \n",
      "    Examples\n",
      "    --------\n",
      "    >>> np.append([1, 2, 3], [[4, 5, 6], [7, 8, 9]])\n",
      "    array([1, 2, 3, 4, 5, 6, 7, 8, 9])\n",
      "    \n",
      "    When `axis` is specified, `values` must have the correct shape.\n",
      "    \n",
      "    >>> np.append([[1, 2, 3], [4, 5, 6]], [[7, 8, 9]], axis=0)\n",
      "    array([[1, 2, 3],\n",
      "           [4, 5, 6],\n",
      "           [7, 8, 9]])\n",
      "    >>> np.append([[1, 2, 3], [4, 5, 6]], [7, 8, 9], axis=0)\n",
      "    Traceback (most recent call last):\n",
      "    ...\n",
      "    ValueError: arrays must have same number of dimensions\n",
      "\n"
     ]
    }
   ],
   "source": [
    "import numpy as np\n",
    "help(np.append)"
   ]
  },
  {
   "cell_type": "code",
   "execution_count": null,
   "metadata": {
    "collapsed": true
   },
   "outputs": [],
   "source": []
  }
 ],
 "metadata": {
  "kernelspec": {
   "display_name": "Python 3",
   "language": "python",
   "name": "python3"
  },
  "language_info": {
   "codemirror_mode": {
    "name": "ipython",
    "version": 3
   },
   "file_extension": ".py",
   "mimetype": "text/x-python",
   "name": "python",
   "nbconvert_exporter": "python",
   "pygments_lexer": "ipython3",
   "version": "3.5.1"
  }
 },
 "nbformat": 4,
 "nbformat_minor": 0
}
