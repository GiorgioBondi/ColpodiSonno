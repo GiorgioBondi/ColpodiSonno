{
 "cells": [
  {
   "cell_type": "code",
   "execution_count": 4,
   "metadata": {
    "collapsed": true
   },
   "outputs": [],
   "source": [
    "#cross-correlazione tra finestra con zero-padding e segnale \n",
    "%matplotlib inline\n",
    "import numpy as np\n",
    "import matplotlib.pyplot as plt\n",
    "import pandas as pd\n",
    "import scipy.signal as signal\n",
    "from numpy.fft import rfft, irfft\n",
    "\n",
    "arrwnd=np.loadtxt(\"FinestreRef.npy\")\n",
    "\n",
    "def calcoloCCR(data, arrwnd, plotGrafici = True):\n",
    "\n",
    "#le due liste da confrontare devono avere stessa lunghezza\n",
    "\n",
    "    for i in range (len(arrwnd)):\n",
    "   \n",
    "        template=arrwnd[i].tolist()\n",
    "    \n",
    "    #Zero padding\n",
    "        for i in range (10,len(data)):\n",
    "            template.append(0)\n",
    "\n",
    "    # Fast Fourier Transform (FFT)\n",
    "        Data= rfft(data)\n",
    "   \n",
    "    # Inverto il vettore template\n",
    "        tempY = []\n",
    "        while len(template) > 0:\n",
    "            tempY.append(template.pop())\n",
    "    \n",
    "        Y = rfft(tempY)\n",
    "\n",
    "    # Faccio la formula inversa della FFT\n",
    "        colpoDiSonno = False\n",
    "        CrossCorrelazione = irfft(Data*Y)\n",
    "        if(max(CrossCorrelazione)>4):\n",
    "            colpoDiSonno = True\n",
    "            print(\"Avvenuto colpo di sonno\")\n",
    "            if plotGrafici:\n",
    "                x=np.arange(0,len(data)-1)\n",
    "                plt.plot(x,CrossCorrelazione)\n",
    "                plt.xlabel(\"Campioni\")\n",
    "                plt.ylabel(\"CrossCorrelazione\")\n",
    "                line1=plt.plot(x,[4]*(len(data)-1),'r')\n",
    "                plt.show()\n",
    "        return colpoDiSonno"
   ]
  },
  {
   "cell_type": "code",
   "execution_count": 11,
   "metadata": {
    "collapsed": false
   },
   "outputs": [],
   "source": [
    "%matplotlib inline\n",
    "from pynq.pmods import Grove_IMU\n",
    "from IPython import display\n",
    "from ipywidgets import widgets\n",
    "import numpy as np\n",
    "import scipy.signal as signal\n",
    "import time\n",
    "import matplotlib.pyplot as plt\n",
    "\n",
    "def pitchcalc(accX, accY, accZ):\n",
    "    argomento=accY/np.sqrt(accX*accX*accZ*accZ)\n",
    "    pitch=np.arctan(argomento)\n",
    "    return pitch\n",
    "\n",
    "\n",
    "# initialize Grove IMU on PMOD 1 (JB) and grove id 4 (GR4).\n",
    "# PMOD mapping is: PMOD 1 -> JB, PMOD 2 -> JC, PMOD 3 -> JD, PMOD 4 -> JE\n",
    "# NOTE: only GR4 can be used for the Grove IMU\n",
    "imu = Grove_IMU(1,4)\n",
    "\n",
    "#empty lists creation\n",
    "accX=list()\n",
    "accY=list()\n",
    "accZ=list()\n",
    "pitch_l=list()\n",
    "\n",
    "i=0\n",
    "\n",
    "while (True):\n",
    "    try:\n",
    "        \n",
    "        motion = imu.get_motion()\n",
    "        \n",
    "        start=time.time()\n",
    "        \n",
    "        # get data from accelerometer\n",
    "        accX.append(motion[0])\n",
    "        accY.append(motion[1])\n",
    "        accZ.append(motion[2])\n",
    "        pitch_l.append(pitchcalc(motion[0],motion[1],motion[2]))\n",
    "        \n",
    "        time.sleep(0.03)\n",
    "        i=i+1\n",
    "            \n",
    "        end=time.time()\n",
    "        \n",
    "        while(i<100):\n",
    "            datiZ=accZ[(len(accZ)-1-i):len(accZ)]\n",
    "            colpodiSonno=calcoloCCR(datiZ,arrwnd,False)\n",
    "            \n",
    "        else:\n",
    "            datiZ=accZ[(len(accZ)-101):len(accZ)]\n",
    "            colpodiSonno=calcoloCCR(datiZ,arrwnd,False)\n",
    "    \n",
    "        print(colpodiSonno)  \n",
    "    \n",
    "    except KeyboardInterrupt:\n",
    "    # exit without showing errors if the stop button in Jupyter is pressed\n",
    "        break\n"
   ]
  },
  {
   "cell_type": "code",
   "execution_count": 12,
   "metadata": {
    "collapsed": false
   },
   "outputs": [
    {
     "name": "stdout",
     "output_type": "stream",
     "text": [
      "[0.89]\n"
     ]
    }
   ],
   "source": [
    "print(accZ)\n"
   ]
  },
  {
   "cell_type": "code",
   "execution_count": null,
   "metadata": {
    "collapsed": true
   },
   "outputs": [],
   "source": []
  }
 ],
 "metadata": {
  "kernelspec": {
   "display_name": "Python 3",
   "language": "python",
   "name": "python3"
  },
  "language_info": {
   "codemirror_mode": {
    "name": "ipython",
    "version": 3
   },
   "file_extension": ".py",
   "mimetype": "text/x-python",
   "name": "python",
   "nbconvert_exporter": "python",
   "pygments_lexer": "ipython3",
   "version": "3.4.3+"
  }
 },
 "nbformat": 4,
 "nbformat_minor": 0
}
