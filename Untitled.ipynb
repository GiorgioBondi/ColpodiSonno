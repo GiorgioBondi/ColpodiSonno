{
 "cells": [
  {
   "cell_type": "code",
   "execution_count": null,
   "metadata": {
    "collapsed": true
   },
   "outputs": [],
   "source": [
    "%matplotlib inline\n",
    "from pynq.pmods import Grove_IMU\n",
    "from IPython import display\n",
    "from ipywidgets import widgets\n",
    "\n",
    "# initialize Grove IMU on PMOD 1 (JB) and grove id 4 (GR4).\n",
    "# PMOD mapping is: PMOD 1 -> JB, PMOD 2 -> JC, PMOD 3 -> JD, PMOD 4 -> JE\n",
    "# NOTE: only GR4 can be used for the Grove IMU\n",
    "imu = Grove_IMU(1,4)\n",
    "\n",
    "while(True):\n",
    "    try:\n",
    "\n",
    "        # get data from accelerometer\n",
    "        accl = imu.get_accl()\n",
    "        \n",
    "        # get data from gyroscope\n",
    "        gyro = imu.get_gyro()\n",
    "\n",
    "        print(\"Accelerometer x: \" + str(accl[0]))\n",
    "        print(\"Accelerometer y: \" + str(accl[1]))\n",
    "        print(\"Accelerometer z: \" + str(accl[2]))\n",
    "        print(\"\")\n",
    "        print(\"Gyroscope x: \" + str(gyro[0]))\n",
    "        print(\"Gyroscope y: \" + str(gyro[1]))\n",
    "        print(\"Gyroscope z: \" + str(gyro[2]))\n",
    "        print(\"\")\n",
    "\n",
    "    except KeyboardInterrupt:\n",
    "        # exit without showing errors if the stop button in Jupyter is pressed\n",
    "        break\n"
   ]
  }
 ],
 "metadata": {
  "kernelspec": {
   "display_name": "Python 3",
   "language": "python",
   "name": "python3"
  },
  "language_info": {
   "codemirror_mode": {
    "name": "ipython",
    "version": 3
   },
   "file_extension": ".py",
   "mimetype": "text/x-python",
   "name": "python",
   "nbconvert_exporter": "python",
   "pygments_lexer": "ipython3",
   "version": "3.5.1"
  }
 },
 "nbformat": 4,
 "nbformat_minor": 0
}
