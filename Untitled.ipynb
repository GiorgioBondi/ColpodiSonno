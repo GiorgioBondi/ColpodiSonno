{
 "cells": [
  {
   "cell_type": "code",
   "execution_count": 3,
   "metadata": {
    "collapsed": false
   },
   "outputs": [
    {
     "name": "stdout",
     "output_type": "stream",
     "text": [
      "[ 0.05  0.05  0.05  0.05]\n"
     ]
    }
   ],
   "source": [
    "from numpy.fft import rfft, irfft\n",
    "\n",
    "# Define your probability distributions\n",
    "# They must be the same size\n",
    "x = [0.1, 0.1, 0.1, 0.1]\n",
    "y = [0.2, 0.1, 0.1, 0.1]\n",
    "\n",
    "# http://docs.scipy.org/doc/numpy/reference/generated/numpy.fft.rfft.html\n",
    "# rfft(x): This function computes the one-dimensional n-point\n",
    "# discrete Fourier Transform (DFT) of a real-valued\n",
    "# array by means of an efficient algorithm called the\n",
    "# Fast Fourier Transform (FFT).\n",
    "x = rfft(x)\n",
    "\n",
    "# Invert the y vector\n",
    "tempY = []\n",
    "while len(y) > 0:\n",
    "    tempY.append(y.pop())\n",
    "y = rfft(tempY)\n",
    "\n",
    "# Compute the inverse of the n-point DFT for real input.\n",
    "CrossCorrelation = irfft(x*y)\n",
    "print(CrossCorrelation)"
   ]
  },
  {
   "cell_type": "code",
   "execution_count": null,
   "metadata": {
    "collapsed": true
   },
   "outputs": [],
   "source": []
  },
  {
   "cell_type": "code",
   "execution_count": null,
   "metadata": {
    "collapsed": true
   },
   "outputs": [],
   "source": []
  }
 ],
 "metadata": {
  "kernelspec": {
   "display_name": "Python 3",
   "language": "python",
   "name": "python3"
  },
  "language_info": {
   "codemirror_mode": {
    "name": "ipython",
    "version": 3
   },
   "file_extension": ".py",
   "mimetype": "text/x-python",
   "name": "python",
   "nbconvert_exporter": "python",
   "pygments_lexer": "ipython3",
   "version": "3.5.1"
  }
 },
 "nbformat": 4,
 "nbformat_minor": 0
}
